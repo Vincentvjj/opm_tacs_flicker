{
 "cells": [
  {
   "cell_type": "code",
   "execution_count": 78,
   "metadata": {},
   "outputs": [],
   "source": [
    "import numpy as np\n",
    "import pyxdf\n",
    "import matplotlib.pyplot as plt\n",
    "from scipy import signal, fftpack\n",
    "from scipy.signal import hilbert, butter, filtfilt\n",
    "\n",
    "import mne \n",
    "from mne.time_frequency import psd_welch"
   ]
  },
  {
   "cell_type": "markdown",
   "metadata": {},
   "source": [
    "## check no-TACS data "
   ]
  },
  {
   "cell_type": "code",
   "execution_count": 79,
   "metadata": {},
   "outputs": [],
   "source": [
    "## import no-tacs data\n",
    "\n",
    "data, header=  pyxdf.load_xdf('../recordings/P01-no-tacs-R2.xdf')\n",
    "\n",
    "if data[0]['info']['name'][0] == 'ExperimentMarkers': \n",
    "    markers_data = data[0] \n",
    "    opm_data = data[1]\n",
    "else: \n",
    "    markers_data = data[1]   \n",
    "    opm_data = data[0]\n",
    "\n",
    "fs = 1000 # sampling rate \n",
    "\n",
    "opm_time_stamps = opm_data['time_stamps'] \n"
   ]
  },
  {
   "cell_type": "code",
   "execution_count": 80,
   "metadata": {},
   "outputs": [],
   "source": [
    "## set up the markers information\n",
    "marker_id_start = 7\n",
    "marker_id_end = 9\n",
    "marker_id_blink_on = 2\n",
    "marker_id_blink_off = 1\n",
    "\n",
    "markers_data_ts = markers_data['time_stamps']\n",
    "\n",
    "# get the approximate index in chassis time stamp for start trigger\n",
    "start_marker = markers_data_ts[np.where(markers_data['time_series'].flatten() == marker_id_start)[0]][0]\n",
    "diff = start_marker - opm_time_stamps \n",
    "diff_bool = (diff < 0.001) & (diff > 0) \n",
    "start_marker_index = np.where(opm_time_stamps == opm_time_stamps[diff_bool])[0][0]\n",
    "\n",
    "# get the approximate index in chassis time stamp for end trigger\n",
    "end_marker = markers_data_ts[np.where(markers_data['time_series'].flatten() == marker_id_end)[0]][0]\n",
    "diff = end_marker - opm_time_stamps \n",
    "diff_bool = (diff < 0.001) & (diff > 0) \n",
    "end_marker_index = np.where(opm_time_stamps == opm_time_stamps[diff_bool])[0][0]\n",
    "num_trials = int((markers_data['time_series'].flatten().shape[0] - 2)/20)\n",
    "\n",
    "#make epochs time stamps\n",
    "markers_data_cut = markers_data['time_series'].flatten()[1:-1] # remove start and end marker \n",
    "\n",
    "epochs_ts = np.zeros(shape=[num_trials]) # for start markers only, then we can add the 2seconds for end trial\n",
    "\n",
    "index = 1\n",
    "index_1 = 0 #for feeding epochs_ts\n",
    "for i in markers_data_cut: \n",
    "    if index % 20 == 1: # there are 20 markers within a trial. 10hz for 2 seconds\n",
    "        epochs_ts[index_1] = markers_data_ts[index]\n",
    "        index_1 += 1\n",
    "    index +=1\n",
    "\n",
    "\n",
    "epochs_ts_index = np.zeros_like(epochs_ts, dtype=int)\n",
    "for i, ts in enumerate(epochs_ts): \n",
    "    diff = ts - opm_time_stamps \n",
    "    diff_bool = (diff < 0.001) & (diff > 0) \n",
    "    epochs_ts_index[i] = np.where(opm_time_stamps == opm_time_stamps[diff_bool])[0][0]\n",
    "\n",
    "\n"
   ]
  },
  {
   "cell_type": "code",
   "execution_count": 81,
   "metadata": {},
   "outputs": [
    {
     "name": "stdout",
     "output_type": "stream",
     "text": [
      "Time left in cut raw: 56.142000 s\n"
     ]
    }
   ],
   "source": [
    "## setting up the raw time series data for processing \n",
    "\n",
    "adc_diode_idx = 0\n",
    "adc_tacs_idx = 11\n",
    "## There will be _full and _cut, the difference is in the duration cut.\n",
    "opm_data_full = opm_data['time_series'][:] * 1e-15 #in tesla\n",
    "\n",
    "adc_diode_full = opm_data_full[:, adc_diode_idx]\n",
    "adc_tacs_full = opm_data_full[:, adc_tacs_idx]\n",
    "\n",
    "opm_data_full = np.delete(opm_data_full, adc_tacs_idx, 1)\n",
    "opm_data_full = np.delete(opm_data_full, adc_diode_idx, 1)\n",
    "\n",
    "num_channels_w_adcs = opm_data_full.shape[1] + 2\n",
    "num_samples = opm_data_full.shape[0]\n",
    "\n",
    "start = start_marker_index # seconds in \n",
    "end = end_marker_index #seocnds before it ends\n",
    "\n",
    "opm_data_cut = opm_data_full[start:end]\n",
    "adc_diode_cut = adc_diode_full[start:end]\n",
    "adc_tacs_cut = adc_tacs_full[start:end]\n",
    "\n",
    "print(\"Time left in cut raw: %f s\" %(opm_data_cut.shape[0]/fs))\n",
    "\n",
    "# channel names according to the order of the OPM data without the ADCs\n",
    "channel_names = np.zeros(shape=[num_channels_w_adcs], dtype='object') \n",
    "channel_types = np.zeros(shape=[num_channels_w_adcs], dtype='object')\n",
    "channel_units = np.zeros(shape=[num_channels_w_adcs], dtype='object')\n",
    "for i, channel in enumerate(opm_data['info']['desc'][0]['channels'][0]['channel']):\n",
    "    # print(channel)\n",
    "    channel_names[i] = channel['label'][0]\n",
    "    channel_types[i] = channel['type'][0]\n",
    "    channel_units[i] = channel['unit'][0]\n",
    "\n",
    "channel_names = np.delete(channel_names, adc_tacs_idx)\n",
    "channel_names = np.delete(channel_names, adc_diode_idx)\n",
    "\n",
    "channel_types = np.delete(channel_types, adc_tacs_idx)\n",
    "channel_types = np.delete(channel_types, adc_diode_idx)\n",
    "\n",
    "\n",
    "## channels ordering\n",
    "ref_channels = ['01:01:50', '01:02:50', '01:05:50']\n",
    "\n",
    "channel_orders = ['00:12:50','00:08:50', '01:04:50'\n",
    ", '00:11:50', '00:07:50', '01:03:50'\n",
    ", '00:10:50', '00:06:50', '00:03:50'\n",
    ", '00:09:50', '00:05:50', '00:01:50']\n",
    "\n",
    "\n",
    "## create full time-series of the adc_diode\n",
    "\n",
    "# checking the flicker timing recorded by the photodiode on the projector\n",
    "threshold = min(adc_diode_full) + (max(adc_diode_full) - min(adc_diode_full)) * 0.8\n",
    "\n",
    "adc_diode_square = np.where(adc_diode_full > threshold, 1, 0) #square signal\n",
    "adc_diode_markers = np.where(adc_diode_full > threshold, 1, 0) # vertical lines\n",
    "\n",
    "on = False\n",
    "for idx, x in enumerate(adc_diode_square): \n",
    "    if x==1 and not on: ## if this is the first one\n",
    "        on = True\n",
    "    elif x==1 and on: ## during the on period.\n",
    "        adc_diode_square[idx] = 1 \n",
    "        adc_diode_markers[idx] = 0\n",
    "        if idx+1==adc_diode_square.shape[0] or adc_diode_square[idx+1] == 0: ## if this is the last one\n",
    "            adc_diode_square[idx] = 1 \n",
    "            adc_diode_markers[idx] = 1\n",
    "            on = False\n",
    "\n",
    "# get the timing on between flickers. It should be 0.1 s interval (10hz flicker) + random ITI \n",
    "index_diode_on = np.where(adc_diode_markers == 1)[0] \n",
    "timing_diode = np.diff(opm_time_stamps[index_diode_on])\n",
    "\n",
    "## create a phase time series of the ADC diode (visual stimuli)\n",
    "adc_diode_phase = np.angle(hilbert(adc_diode_square), deg=False)\n"
   ]
  },
  {
   "cell_type": "code",
   "execution_count": 93,
   "metadata": {},
   "outputs": [
    {
     "name": "stdout",
     "output_type": "stream",
     "text": [
      "Creating RawArray with float64 data, n_channels=15, n_times=72500\n",
      "    Range : 0 ... 72499 =      0.000 ...    72.499 secs\n",
      "Ready.\n",
      "Filtering raw data in 1 contiguous segment\n",
      "Setting up band-pass filter from 9 - 11 Hz\n",
      "\n",
      "FIR filter parameters\n",
      "---------------------\n",
      "Designing a one-pass, zero-phase, non-causal bandpass filter:\n",
      "- Windowed time-domain design (firwin) method\n",
      "- Hamming window with 0.0194 passband ripple and 53 dB stopband attenuation\n",
      "- Lower passband edge: 9.00\n",
      "- Lower transition bandwidth: 2.25 Hz (-6 dB cutoff frequency: 7.88 Hz)\n",
      "- Upper passband edge: 11.00 Hz\n",
      "- Upper transition bandwidth: 2.75 Hz (-6 dB cutoff frequency: 12.38 Hz)\n",
      "- Filter length: 1467 samples (1.467 sec)\n",
      "\n",
      "(12, 72500)\n"
     ]
    }
   ],
   "source": [
    "##make epochs for OPM data and \n",
    "\n",
    "trial_dur = 2000 #2 seconds trial\n",
    "\n",
    "#make mne object, maybe for easier filtering or other pre-processing stuff..\n",
    "info = mne.create_info(list(channel_names), fs, list(channel_types))\n",
    "raw = mne.io.RawArray(opm_data_full[:].T, info)\n",
    "raw.drop_channels(ref_channels)\n",
    "raw.reorder_channels(channel_orders)\n",
    "\n",
    "raw.filter(9,11)\n",
    "raw_arr = raw[:][0]\n",
    "print(raw_arr.shape)\n",
    "\n",
    "num_primary_channels = raw_arr.shape[0] # exlcuding reference and adc\n",
    "epo_opm_f10 = np.zeros(shape=[num_primary_channels, num_trials, trial_dur]) #filtered 10hz\n",
    "epo_diode_phase = np.zeros(shape=[num_trials, trial_dur]) \n",
    "\n",
    "for i, ts_index in enumerate(epochs_ts_index): \n",
    "    # print(raw_arr[:, ts_index:ts_index+trial_dur].shape)\n",
    "    # print(ts_index)\n",
    "    start = ts_index\n",
    "    end = ts_index+trial_dur\n",
    "    epo_opm_f10[:, i, :] = raw_arr[:, start:end]\n",
    "    epo_diode_phase[i,:] = adc_diode_phase[start:end]\n"
   ]
  },
  {
   "cell_type": "code",
   "execution_count": null,
   "metadata": {},
   "outputs": [],
   "source": []
  },
  {
   "cell_type": "code",
   "execution_count": 83,
   "metadata": {},
   "outputs": [],
   "source": [
    "\n",
    "# plt.plot(np.mean(epo_opm[:, :, :], axis = (0, 1)))"
   ]
  },
  {
   "cell_type": "code",
   "execution_count": 94,
   "metadata": {},
   "outputs": [
    {
     "ename": "NameError",
     "evalue": "name 'time_stamps' is not defined",
     "output_type": "error",
     "traceback": [
      "\u001b[0;31m---------------------------------------------------------------------------\u001b[0m",
      "\u001b[0;31mNameError\u001b[0m                                 Traceback (most recent call last)",
      "\u001b[0;32m<ipython-input-94-c28884409251>\u001b[0m in \u001b[0;36m<module>\u001b[0;34m\u001b[0m\n\u001b[1;32m      2\u001b[0m \u001b[0mget_ipython\u001b[0m\u001b[0;34m(\u001b[0m\u001b[0;34m)\u001b[0m\u001b[0;34m.\u001b[0m\u001b[0mrun_line_magic\u001b[0m\u001b[0;34m(\u001b[0m\u001b[0;34m'matplotlib'\u001b[0m\u001b[0;34m,\u001b[0m \u001b[0;34m'inline'\u001b[0m\u001b[0;34m)\u001b[0m\u001b[0;34m\u001b[0m\u001b[0;34m\u001b[0m\u001b[0m\n\u001b[1;32m      3\u001b[0m \u001b[0;34m\u001b[0m\u001b[0m\n\u001b[0;32m----> 4\u001b[0;31m \u001b[0mplt\u001b[0m\u001b[0;34m.\u001b[0m\u001b[0mplot\u001b[0m\u001b[0;34m(\u001b[0m\u001b[0mtime_stamps\u001b[0m\u001b[0;34m[\u001b[0m\u001b[0;36m650\u001b[0m\u001b[0;34m:\u001b[0m\u001b[0;36m1650\u001b[0m\u001b[0;34m]\u001b[0m\u001b[0;34m,\u001b[0m \u001b[0mopm_data_cut\u001b[0m\u001b[0;34m[\u001b[0m\u001b[0;36m650\u001b[0m\u001b[0;34m:\u001b[0m\u001b[0;36m1650\u001b[0m\u001b[0;34m,\u001b[0m\u001b[0;36m0\u001b[0m\u001b[0;34m]\u001b[0m\u001b[0;34m)\u001b[0m\u001b[0;34m\u001b[0m\u001b[0;34m\u001b[0m\u001b[0m\n\u001b[0m\u001b[1;32m      5\u001b[0m \u001b[0;32mfor\u001b[0m \u001b[0mi\u001b[0m \u001b[0;32min\u001b[0m \u001b[0mindex_diode_on\u001b[0m\u001b[0;34m[\u001b[0m\u001b[0;34m:\u001b[0m\u001b[0;36m10\u001b[0m\u001b[0;34m]\u001b[0m\u001b[0;34m:\u001b[0m\u001b[0;34m\u001b[0m\u001b[0;34m\u001b[0m\u001b[0m\n\u001b[1;32m      6\u001b[0m     \u001b[0mplt\u001b[0m\u001b[0;34m.\u001b[0m\u001b[0maxvline\u001b[0m\u001b[0;34m(\u001b[0m\u001b[0mx\u001b[0m\u001b[0;34m=\u001b[0m\u001b[0mtime_stamps\u001b[0m\u001b[0;34m[\u001b[0m\u001b[0mi\u001b[0m\u001b[0;34m]\u001b[0m\u001b[0;34m,\u001b[0m \u001b[0mcolor\u001b[0m\u001b[0;34m=\u001b[0m\u001b[0;34m'red'\u001b[0m\u001b[0;34m)\u001b[0m\u001b[0;34m\u001b[0m\u001b[0;34m\u001b[0m\u001b[0m\n",
      "\u001b[0;31mNameError\u001b[0m: name 'time_stamps' is not defined"
     ]
    }
   ],
   "source": [
    "# ## see the flickers with the OPM data\n",
    "# %matplotlib inline\n",
    "\n",
    "# plt.plot(time_stamps[650:1650], opm_data_cut[650:1650,0])\n",
    "# for i in index_diode_on[:10]:\n",
    "#     plt.axvline(x=time_stamps[i], color='red')\n",
    "\n",
    "# ## make a time-series of the visual stimulus\n",
    "\n",
    "    "
   ]
  },
  {
   "cell_type": "code",
   "execution_count": null,
   "metadata": {},
   "outputs": [],
   "source": [
    "\n",
    "\n"
   ]
  },
  {
   "cell_type": "markdown",
   "metadata": {},
   "source": [
    "## Some analysis"
   ]
  },
  {
   "cell_type": "code",
   "execution_count": null,
   "metadata": {},
   "outputs": [],
   "source": []
  },
  {
   "cell_type": "code",
   "execution_count": 95,
   "metadata": {},
   "outputs": [
    {
     "name": "stdout",
     "output_type": "stream",
     "text": [
      "Creating RawArray with float64 data, n_channels=15, n_times=56142\n",
      "    Range : 0 ... 56141 =      0.000 ...    56.141 secs\n",
      "Ready.\n",
      "Effective window size : 1.000 (s)\n",
      "Effective window size : 1.000 (s)\n",
      "Effective window size : 1.000 (s)\n",
      "Effective window size : 1.000 (s)\n",
      "Effective window size : 1.000 (s)\n",
      "Effective window size : 1.000 (s)\n",
      "Effective window size : 1.000 (s)\n",
      "Effective window size : 1.000 (s)\n",
      "Effective window size : 1.000 (s)\n",
      "Effective window size : 1.000 (s)\n",
      "Effective window size : 1.000 (s)\n",
      "Effective window size : 1.000 (s)\n"
     ]
    }
   ],
   "source": [
    "## prepare OPM data struct\n",
    "\n",
    "%matplotlib qt\n",
    "info = mne.create_info(list(channel_names), fs, list(channel_types))\n",
    "raw = mne.io.RawArray(opm_data_cut[:].T, info)\n",
    "\n",
    "## plot/check reference data\n",
    "# ref_data = raw.pick_channels(ref_channels)[:][0]\n",
    "# print(ref_data.shape)\n",
    "# plt.plot(ref_data[0,:5000])\n",
    "# plt.plot(ref_data[1,:5000])\n",
    "# plt.plot(ref_data[2,:5000])\n",
    "\n",
    "\n",
    "## Plot PSD of primary channels\n",
    "\n",
    "raw.drop_channels(ref_channels)\n",
    "raw.reorder_channels(channel_orders)\n",
    "\n",
    "# raw.filter(9,12)\n",
    "# raw.plot_psd(fmax=30)\n",
    "\n",
    "# plot psd OPM data per channel\n",
    "for i in range(len(channel_orders)):\n",
    "    pxx, f = psd_welch(raw, fmax=100, n_fft=1000, picks=channel_orders[i])\n",
    "    plt.subplot(4,3,i+1)\n",
    "    plt.semilogy(f, pxx.flatten())\n",
    "    plt.title(channel_orders[i])\n",
    "    plt.xlabel(\"freqs (Hz)\")\n",
    "    plt.ylabel(\"Power\")\n",
    "\n"
   ]
  },
  {
   "cell_type": "code",
   "execution_count": 98,
   "metadata": {},
   "outputs": [
    {
     "name": "stdout",
     "output_type": "stream",
     "text": [
      "(12, 56142)\n"
     ]
    }
   ],
   "source": [
    "%matplotlib inline\n",
    "## Plot time-series primary channels\n",
    "\n",
    "# raw.filter(9,11)\n",
    "raw_arr = raw[:][0]\n",
    "print(raw_arr.shape)\n",
    "\n",
    "start = 0\n",
    "end = 5000\n",
    "\n",
    "markers_line = adc_diode_markers[start:end].astype(bool)\n",
    "marker_ts = opm_time_stamps[start:end][markers_line]\n",
    "\n",
    "# Visualize raw data with markers timestamps\n",
    "\n",
    "# plt.figure()\n",
    "# for i in range(raw_arr.shape[0]): \n",
    "#     plt.subplot(4,3,i+1)\n",
    "#     plt.title('channel ' + raw.ch_names[i])\n",
    "#     plt.plot(opm_time_stamps[start:end], raw_arr[i, start:end])\n",
    "#     adc_diode_markers\n",
    "#     for ts in marker_ts:\n",
    "#         # print(time_stamps[j])\n",
    "#         plt.axvline(x=ts, c=\"red\")\n",
    "\n",
    "\n"
   ]
  },
  {
   "cell_type": "code",
   "execution_count": null,
   "metadata": {},
   "outputs": [],
   "source": []
  },
  {
   "cell_type": "markdown",
   "metadata": {},
   "source": [
    "## Analyze phase information of visual stimuli and OPM data"
   ]
  },
  {
   "cell_type": "code",
   "execution_count": 87,
   "metadata": {},
   "outputs": [
    {
     "name": "stdout",
     "output_type": "stream",
     "text": [
      "[0.12721563 0.08479446 0.12854731 0.12220812 0.07538386 0.13394569\n",
      " 0.13869253 0.08264341 0.14165891 0.17516451 0.10118577 0.1187798 ]\n"
     ]
    }
   ],
   "source": [
    "%matplotlib inline\n",
    "def wrap(phases):\n",
    "    return (phases + np.pi) % (2 * np.pi) - np.pi\n",
    "\n",
    "def get_plv(phases):\n",
    "    plv = (np.exp(1j*phases)).mean()\n",
    "    return plv\n",
    "\n",
    "def circ_detrend(phases): \n",
    "    # uses Euler's formula to get angle's vector, then get mean angle\n",
    "    # plv = np.abs(np.sum(complex_phase_diff)/ len(phases))\n",
    "    # plv= np.abs(np.sum(np.exp(1j*phases))) / len(phases)\n",
    "    plv = get_plv(phases)\n",
    "    mean = np.angle(plv)\n",
    "    return wrap(phases-mean) \n",
    "\n",
    "# plt.figure()\n",
    "plv_arr = np.zeros(shape=[num_primary_channels, num_trials])\n",
    "for ch in range(num_primary_channels):\n",
    "    \n",
    "    # plt.subplot(5,5,i+1, polar=True)\n",
    "    # plt.title('Trial ' + str(i))\n",
    "    # # ax.get_yaxis().set_visible(False)\n",
    "    # plt.hist(circ_detrend(data),density=True,edgecolor='black')\n",
    "    for i in range(num_trials): \n",
    "        angle = np.angle(hilbert(epo_opm_f10[ch, i, :]), deg=False)\n",
    "        data = wrap(epo_diode_phase[i] - angle)\n",
    "        plv_arr[ch, i] = np.abs(get_plv(data))\n",
    "    \n",
    "print(np.mean(plv_arr, axis=1))\n",
    "\n",
    "\n",
    "angle = np.angle(hilbert(epo_opm_f10[ch, i, :]), deg=False)\n",
    "data = wrap(epo_diode_phase[i] - angle)\n",
    "plv_arr[ch, i] = np.abs(get_plv(data))\n",
    "\n",
    "# plt.figure()\n",
    "# ## for each channel\n",
    "# for i in range(raw_arr.shape[0]): \n",
    "\n",
    "#     opm_angle = np.angle(hilbert(raw_arr[i]), deg=False)\n",
    "#     data = wrap(opm_angle-adc_diode_phase)\n",
    "\n",
    "#     plt.subplot(4,3,i+1, polar=True)\n",
    "#     plt.title('channel ' + raw.ch_names[i])    \n",
    "#     # ax.get_yaxis().set_visible(False)\n",
    "#     plt.hist(circ_detrend(data),density=True,edgecolor='black')\n",
    "\n",
    "\n"
   ]
  }
 ],
 "metadata": {
  "interpreter": {
   "hash": "30e61447835f0c96769f60e797ea326ff051e6c5c7693245a7b01a8f5cdee9f0"
  },
  "kernelspec": {
   "display_name": "Python 3.9.1 ('base')",
   "language": "python",
   "name": "python3"
  },
  "language_info": {
   "codemirror_mode": {
    "name": "ipython",
    "version": 3
   },
   "file_extension": ".py",
   "mimetype": "text/x-python",
   "name": "python",
   "nbconvert_exporter": "python",
   "pygments_lexer": "ipython3",
   "version": "3.9.1"
  },
  "orig_nbformat": 4
 },
 "nbformat": 4,
 "nbformat_minor": 2
}
